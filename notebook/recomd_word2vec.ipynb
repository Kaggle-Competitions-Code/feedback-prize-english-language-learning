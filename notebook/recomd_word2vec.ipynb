{
 "cells": [
  {
   "cell_type": "code",
   "execution_count": 2,
   "id": "aef2220c-f77a-4118-85ce-b943a26f2aed",
   "metadata": {},
   "outputs": [],
   "source": [
    "# coding=utf-8\n",
    "\n",
    "import hashlib\n",
    "import json\n",
    "import os\n",
    "import pickle\n",
    "import random\n",
    "import re\n",
    "import shutil\n",
    "import sys\n",
    "import time\n",
    "from datetime import datetime, timedelta\n",
    "\n",
    "import numpy as np\n",
    "import pandas as pd\n",
    "import requests\n",
    "from tqdm.auto import tqdm\n",
    "\n",
    "pd.set_option(\"display.max_columns\", 10)\n",
    "pd.set_option(\"display.max_rows\", 10)\n",
    "pd.set_option(\"mode.chained_assignment\", None)"
   ]
  },
  {
   "cell_type": "code",
   "execution_count": 3,
   "id": "3e4c0aff-e80e-443e-820c-52ad6c0b821d",
   "metadata": {},
   "outputs": [],
   "source": [
    "from elasticsearch import Elasticsearch\n",
    "from elasticsearch.client import IndicesClient\n",
    "from elasticsearch import helpers"
   ]
  },
  {
   "cell_type": "code",
   "execution_count": 4,
   "id": "0ded236a-6f1b-4709-86cc-a8aa578514d8",
   "metadata": {},
   "outputs": [],
   "source": [
    "import jieba\n",
    "from gensim.models import Word2Vec"
   ]
  },
  {
   "cell_type": "code",
   "execution_count": 5,
   "id": "1b85b632-da57-4d52-8b10-0012f58f9186",
   "metadata": {},
   "outputs": [],
   "source": [
    "path_database = os.popen(\"locate -b DATABASE\").read().split(\"\\n\")[0]\n",
    "sys.path.append(path_database)\n",
    "from read_data import *"
   ]
  },
  {
   "cell_type": "code",
   "execution_count": 6,
   "id": "0bbfae1e-34b6-43a0-9b71-fad925c061b6",
   "metadata": {},
   "outputs": [],
   "source": [
    "def get_hash_code(code):\n",
    "    code = str(code).strip().upper()\n",
    "    md5 = hashlib.md5()\n",
    "    md5.update(code.encode('utf-8'))\n",
    "    hash_code = md5.hexdigest().upper()\n",
    "    return hash_code"
   ]
  },
  {
   "cell_type": "markdown",
   "id": "a41ba661-792a-4fb9-a8bb-b94f3880338c",
   "metadata": {},
   "source": [
    "### 基于购买数据"
   ]
  },
  {
   "cell_type": "code",
   "execution_count": 6,
   "id": "ff8d367f-4d38-4a1c-b307-4b02b7984fd4",
   "metadata": {},
   "outputs": [],
   "source": [
    "# 读取数据\n",
    "data_seriesapi = pd.read_pickle(path_seriesapi)\n",
    "data_seriesapi = pd.DataFrame(data_seriesapi)\n",
    "\n",
    "cols_rename = {\n",
    "    'seriesCode': 'itemCd',\n",
    "    'seriesName': 'name',\n",
    "    'productImageList': 'imgUrl',\n",
    "    'brandName': 'maker',\n",
    "    'minStandardUnitPrice': 'priceFrom',\n",
    "    'maxStandardUnitPrice': 'priceTo',\n",
    "    'minStandardDaysToShip': 'deliveryFrom',\n",
    "    'maxStandardDaysToShip': 'deliveryTo',\n",
    "    'categoryCode': 'categoryCd',\n",
    "}\n",
    "data_seriesapi = data_seriesapi.reindex(columns=cols_rename.keys())\n",
    "\n",
    "data_seriesapi['linkUrl'] = data_seriesapi.seriesCode.apply(lambda d: f'www.misumi.com.cn/vona2/detail/{d}')\n",
    "data_seriesapi['productImageList'] = data_seriesapi.productImageList.apply(lambda d: d[0]['url'] if len(d) else '')\n",
    "\n",
    "\n",
    "def get_price(d):\n",
    "    if d <= 0:\n",
    "        return ''\n",
    "    if d > 0:\n",
    "        return f'￥{d}起'\n",
    "\n",
    "data_seriesapi['minStandardUnitPrice'] = data_seriesapi.minStandardUnitPrice.fillna(-99)\n",
    "data_seriesapi['maxStandardUnitPrice'] = data_seriesapi.maxStandardUnitPrice.fillna(-99)\n",
    "data_seriesapi['price'] = data_seriesapi.minStandardUnitPrice.apply(get_price)\n",
    "\n",
    "\n",
    "def get_delivery(d):\n",
    "    if d < -1:\n",
    "        return ''\n",
    "    if d <=0:\n",
    "        return '当天'\n",
    "    if d > 0:\n",
    "        d = int(d)\n",
    "        return f'{d}天起'\n",
    "    \n",
    "    \n",
    "data_seriesapi['minStandardDaysToShip'] = data_seriesapi.minStandardDaysToShip.fillna(-99)\n",
    "data_seriesapi['maxStandardDaysToShip'] = data_seriesapi.maxStandardDaysToShip.fillna(-99)\n",
    "data_seriesapi['delivery'] = data_seriesapi.minStandardDaysToShip.apply(get_delivery)\n",
    "\n",
    "data_seriesapi['isActive'] = 1\n",
    "data_seriesapi['ttl'] = str(int(datetime.now().timestamp()))\n",
    "\n",
    "data_seriesapi = data_seriesapi.rename(columns=cols_rename)\n",
    "for col in data_seriesapi.columns:\n",
    "    data_seriesapi[col] = data_seriesapi[col].apply(str)\n",
    "    \n",
    "dict_seriesapi = dict(zip(data_seriesapi.itemCd, data_seriesapi.to_dict('records')))"
   ]
  },
  {
   "cell_type": "code",
   "execution_count": 7,
   "id": "40d317d5-0de5-43f8-afba-fa2c0ee6973c",
   "metadata": {},
   "outputs": [],
   "source": [
    "data_category = pd.read_pickle(path_category)\n",
    "data_seriesol = pd.read_pickle(path_seriesol)\n",
    "data_seriesall = pd.read_pickle(path_seriesall)\n",
    "\n",
    "data_so = [pd.read_pickle(i) for i in paths_so[-1:]]\n",
    "data_so = pd.concat(data_so, ignore_index=True)"
   ]
  },
  {
   "cell_type": "code",
   "execution_count": 8,
   "id": "27bfc27c-0c24-4519-bc68-c91e804ed521",
   "metadata": {},
   "outputs": [
    {
     "name": "stdout",
     "output_type": "stream",
     "text": [
      "CPU times: user 2min 4s, sys: 1.04 s, total: 2min 5s\n",
      "Wall time: 50.9 s\n"
     ]
    },
    {
     "data": {
      "text/plain": [
       "(23540588, 25686695)"
      ]
     },
     "execution_count": 8,
     "metadata": {},
     "output_type": "execute_result"
    }
   ],
   "source": [
    "%%time\n",
    "# 创建序列\n",
    "# 基于MRO品长尾，基于is_mro对订单进行拆分\n",
    "data_series_bu = (\n",
    "    data_seriesall\n",
    "    .reindex(columns=['series_code', 'category_code'])\n",
    "    .dropna()\n",
    "    .merge(data_category, how='left', on=['category_code'])\n",
    "    .reindex(columns=['series_code', 'category_bu'])\n",
    ")\n",
    "data_so = data_so.merge(data_series_bu, how='left', on=['series_code'])\n",
    "data_so['is_mro'] = data_so.category_bu.apply(lambda d: int(d=='VM'))\n",
    "\n",
    "data_so_list = (\n",
    "    data_so\n",
    "    .dropna(subset=['so_voucher_no', 'is_mro', 'series_code'])\n",
    "    .groupby(['so_voucher_no', 'is_mro'])['series_code']\n",
    "    .agg(list)\n",
    "    .reset_index()\n",
    ")\n",
    "\n",
    "\n",
    "# 训练模型\n",
    "sentences = data_so_list.series_code\n",
    "model = Word2Vec(vector_size=100, window=5, min_count=5, sg=1, hs=1, workers=4)\n",
    "model.build_vocab(sentences)\n",
    "model.train(sentences, total_examples=model.corpus_count, epochs=model.epochs)"
   ]
  },
  {
   "cell_type": "code",
   "execution_count": 9,
   "id": "f3320867-8ecc-4ce0-a03a-755e149b22ef",
   "metadata": {},
   "outputs": [],
   "source": [
    "data_emb = pd.DataFrame({\n",
    "    'series_code': model.wv.index_to_key, \n",
    "    'embedding': list(model.wv.get_normed_vectors()), \n",
    "})\n",
    "data_emb = (\n",
    "    data_seriesol\n",
    "    .reindex(columns=['series_code', 'category_code'])\n",
    "    .merge(data_category[['category_code', 'path_code']])\n",
    "    .merge(data_emb, how='left', on=['series_code'])   \n",
    ")\n",
    "data_emb['path_code'] = data_emb.path_code.apply(lambda d: d.split('>'))\n",
    "\n",
    "\n",
    "# 类别向量填充\n",
    "data_path_emb = (\n",
    "    data_emb\n",
    "    .drop(['path_code'], axis=1)\n",
    "    .join(data_emb.path_code.explode())\n",
    "    .dropna()\n",
    "    .groupby(['path_code'])\n",
    "    .agg({'embedding': np.mean})\n",
    "    .reset_index()\n",
    ")\n",
    "dict_path_emb = dict(zip(data_path_emb.path_code, data_path_emb.embedding))\n",
    "\n",
    "\n",
    "data_emb = data_emb.to_dict('records')\n",
    "for i in data_emb:\n",
    "    if type(i['embedding']) == np.ndarray:\n",
    "        continue\n",
    "          \n",
    "    for p in i['path_code'][::-1]:\n",
    "        p_emb = dict_path_emb.get(p)\n",
    "        \n",
    "        if type(p_emb) == np.ndarray:\n",
    "            i['embedding'] = p_emb\n",
    "            break\n",
    "\n",
    "data_emb = pd.DataFrame(data_emb)\n",
    "data_emb = data_emb.drop(['category_code', 'path_code'], axis=1)"
   ]
  },
  {
   "cell_type": "code",
   "execution_count": 47,
   "id": "95948e60-a20f-4dcf-8bca-9950aaa631ed",
   "metadata": {},
   "outputs": [],
   "source": [
    "data_emb = pd.DataFrame(data_emb)"
   ]
  },
  {
   "cell_type": "code",
   "execution_count": 48,
   "id": "773817fa-0447-4195-9ea4-b4792074347e",
   "metadata": {},
   "outputs": [
    {
     "data": {
      "application/vnd.jupyter.widget-view+json": {
       "model_id": "1a54fd97b8be432888c7c0dc78d4e754",
       "version_major": 2,
       "version_minor": 0
      },
      "text/plain": [
       "  0%|          | 0/49833 [00:00<?, ?it/s]"
      ]
     },
     "metadata": {},
     "output_type": "display_data"
    }
   ],
   "source": [
    "topn = 10\n",
    "series_code = data_emb.series_code\n",
    "embedding = data_emb.embedding.to_list()\n",
    "series_api = data_seriesapi.itemCd.to_list()\n",
    "\n",
    "\n",
    "data_emb = data_emb.to_dict('records')\n",
    "for i in tqdm(data_emb):\n",
    "    scores = model.wv.cosine_similarities(i['embedding'], embedding)\n",
    "    series = series_code[np.argsort(scores)[::-1]].to_list()\n",
    "    series = [j for j in series[:1000] if j not in series_api]\n",
    "    \n",
    "    recomd = [j for j in series if j!=i['series_code']][:topn]\n",
    "    i['recomd'] = recomd\n",
    "    \n",
    "data_emb = pd.DataFrame(data_emb)"
   ]
  },
  {
   "cell_type": "code",
   "execution_count": null,
   "id": "72066b1b-5044-4299-9464-11a91d868525",
   "metadata": {},
   "outputs": [],
   "source": [
    "# 测试\n",
    "\n",
    "idx = random.choice(range(len(data_emb)))\n",
    "i_series = data_emb.iloc[idx]\n",
    "a = data_seriesol[data_seriesol.series_code==i_series['series_code']].series_name.iloc[0]\n",
    "b = data_seriesol[data_seriesol.series_code.isin(i_series['recomd'][:5])].series_name.tolist()\n",
    "\n",
    "print(a)\n",
    "print(b)"
   ]
  },
  {
   "cell_type": "code",
   "execution_count": null,
   "id": "f6692ea3-4cb5-4d63-a849-104bdd9be9df",
   "metadata": {},
   "outputs": [],
   "source": []
  },
  {
   "cell_type": "code",
   "execution_count": 17,
   "id": "42c5e190-744a-45a3-ab76-9c8618672658",
   "metadata": {},
   "outputs": [
    {
     "data": {
      "application/vnd.jupyter.widget-view+json": {
       "model_id": "d36ae695ad2c49c4b29d4826da7cebb9",
       "version_major": 2,
       "version_minor": 0
      },
      "text/plain": [
       "  0%|          | 0/49833 [00:00<?, ?it/s]"
      ]
     },
     "metadata": {},
     "output_type": "display_data"
    },
    {
     "ename": "AttributeError",
     "evalue": "'NoneType' object has no attribute 'copy'",
     "output_type": "error",
     "traceback": [
      "\u001b[0;31m---------------------------------------------------------------------------\u001b[0m",
      "\u001b[0;31mAttributeError\u001b[0m                            Traceback (most recent call last)",
      "File \u001b[0;32m<timed exec>:4\u001b[0m, in \u001b[0;36m<module>\u001b[0;34m\u001b[0m\n",
      "File \u001b[0;32m<timed exec>:4\u001b[0m, in \u001b[0;36m<lambda>\u001b[0;34m(d)\u001b[0m\n",
      "\u001b[0;31mAttributeError\u001b[0m: 'NoneType' object has no attribute 'copy'"
     ]
    }
   ],
   "source": [
    "%%time\n",
    "data_api = []\n",
    "for i in tqdm(data_emb.to_dict('records')):\n",
    "    i_key = i['series_code']\n",
    "    i_val = list(map(lambda d: dict_seriesapi.get(d).copy(), i['recomd']))\n",
    "    \n",
    "    for j_idx, j_val in enumerate(i_val):\n",
    "        j_pos = str(j_idx + 1)\n",
    "        j_ext = f'?rid=detail_purchase_{i_key}_{j_pos}'\n",
    "        j_val['position'] = j_pos\n",
    "        j_val['linkUrl'] = j_val['linkUrl'] + j_ext\n",
    "        \n",
    "    data_api.append((i_key, {'data': str(i_val)}))"
   ]
  },
  {
   "cell_type": "code",
   "execution_count": 580,
   "id": "3470901d-2eec-4eaa-bd98-5849ada83b60",
   "metadata": {},
   "outputs": [
    {
     "data": {
      "text/plain": [
       "True"
      ]
     },
     "execution_count": 580,
     "metadata": {},
     "output_type": "execute_result"
    }
   ],
   "source": [
    "url_recomd = 'https://vpc-ec-recomd-stg-sk5q5e6dcred74nwkgbzn6xe7e.cn-north-1.es.amazonaws.com.cn'\n",
    "url_recomd = 'https://vpc-ec-recomd-prd-7tegdwbsfek66bfe26mdgoudoy.cn-north-1.es.amazonaws.com.cn'\n",
    "\n",
    "es_recomd = Elasticsearch([url_recomd])\n",
    "ic_recomd = IndicesClient(es_recomd)\n",
    "es_recomd.ping()"
   ]
  },
  {
   "cell_type": "code",
   "execution_count": 581,
   "id": "b8c915f2-d17d-4561-8dc2-23b3f61b60ca",
   "metadata": {},
   "outputs": [
    {
     "data": {
      "application/vnd.jupyter.widget-view+json": {
       "model_id": "f17a93f38976474c9c73159880867bc6",
       "version_major": 2,
       "version_minor": 0
      },
      "text/plain": [
       "  0%|          | 0/50 [00:00<?, ?it/s]"
      ]
     },
     "metadata": {},
     "output_type": "display_data"
    },
    {
     "name": "stdout",
     "output_type": "stream",
     "text": [
      "CPU times: user 3.51 s, sys: 565 ms, total: 4.08 s\n",
      "Wall time: 3min 36s\n"
     ]
    }
   ],
   "source": [
    "%%time\n",
    "size = 1000\n",
    "for i in tqdm(range(0, len(data_api), size)):\n",
    "    i_data = data_api[i:i+size]\n",
    "\n",
    "    i_data_update = [{\n",
    "        '_op_type': 'index',\n",
    "        '_index': 'detail_purchase',\n",
    "        '_type': '_doc',\n",
    "        '_id': get_hash_code(i[0] + ',,,'),\n",
    "        '_source': i[1]} for i in i_data]\n",
    "    h = helpers.bulk(es_recomd, i_data_update)\n",
    "\n",
    "    time.sleep(0.5)\n",
    "    es_recomd.indices.refresh()"
   ]
  },
  {
   "cell_type": "code",
   "execution_count": 7,
   "id": "faeca0fb-2427-412b-8f4e-a4af74536b3f",
   "metadata": {},
   "outputs": [
    {
     "name": "stdout",
     "output_type": "stream",
     "text": [
      "CPU times: user 48.3 ms, sys: 85 µs, total: 48.4 ms\n",
      "Wall time: 263 ms\n"
     ]
    },
    {
     "data": {
      "text/plain": [
       "{'data': [{'categoryCd': 'T1708010000',\n",
       "   'delivery': '当天',\n",
       "   'deliveryFrom': '0.0',\n",
       "   'deliveryTo': '0.0',\n",
       "   'imgUrl': '//www.misumi.com.cn/linked/material/fs/MSM1/PHOTO/110610382769_004.jpg',\n",
       "   'isActive': '1',\n",
       "   'itemCd': '110610382769',\n",
       "   'linkUrl': 'www.misumi.com.cn/vona2/detail/110610382769?rid=detail_purchase_110610027719_1',\n",
       "   'maker': '米思米(MISUMI)',\n",
       "   'name': '轻便款10针500g纱线手套（优级棉纱）',\n",
       "   'position': '1',\n",
       "   'price': '￥17.08起',\n",
       "   'priceFrom': '17.08',\n",
       "   'priceTo': '17.08',\n",
       "   'ttl': '1663060364'},\n",
       "  {'categoryCd': 'T1708010000',\n",
       "   'delivery': '当天',\n",
       "   'deliveryFrom': '0.0',\n",
       "   'deliveryTo': '0.0',\n",
       "   'imgUrl': '//content.misumi.com.cn/image/upload/v1/p/cn/product/series/110610185399/110610185399_20190712103854.jpg',\n",
       "   'isActive': '1',\n",
       "   'itemCd': '110610185399',\n",
       "   'linkUrl': 'www.misumi.com.cn/vona2/detail/110610185399?rid=detail_purchase_110610027719_2',\n",
       "   'maker': '米思米(MISUMI)',\n",
       "   'name': '600g点塑纱线手套 涤棉新料 10针本白 12副/袋',\n",
       "   'position': '2',\n",
       "   'price': '￥23.83起',\n",
       "   'priceFrom': '23.83',\n",
       "   'priceTo': '1045.0',\n",
       "   'ttl': '1663060364'},\n",
       "  {'categoryCd': 'E1402020000',\n",
       "   'delivery': '当天',\n",
       "   'deliveryFrom': '0.0',\n",
       "   'deliveryTo': '0.0',\n",
       "   'imgUrl': '//www.misumi.com.cn/linked/material/el/HRS1/PHOTO/222000425939.jpg',\n",
       "   'isActive': '1',\n",
       "   'itemCd': '222000425939',\n",
       "   'linkUrl': 'www.misumi.com.cn/vona2/detail/222000425939?rid=detail_purchase_110610027719_3',\n",
       "   'maker': '广濑电机(HIROSE)[日本]',\n",
       "   'name': '连接器 HNC系列(离散线束连接器，2.5mm间距)',\n",
       "   'position': '3',\n",
       "   'price': '￥1.18起',\n",
       "   'priceFrom': '1.18',\n",
       "   'priceTo': '21.53',\n",
       "   'ttl': '1663060364'},\n",
       "  {'categoryCd': 'E1402020000',\n",
       "   'delivery': '当天',\n",
       "   'deliveryFrom': '0.0',\n",
       "   'deliveryTo': '0.0',\n",
       "   'imgUrl': '//www.misumi.com.cn/linked/material/el/HRS1/PHOTO/222000425939.jpg',\n",
       "   'isActive': '1',\n",
       "   'itemCd': '222000425939',\n",
       "   'linkUrl': 'www.misumi.com.cn/vona2/detail/222000425939?rid=detail_purchase_110610027719_4',\n",
       "   'maker': '广濑电机(HIROSE)[日本]',\n",
       "   'name': '连接器 HNC系列(离散线束连接器，2.5mm间距)',\n",
       "   'position': '4',\n",
       "   'price': '￥1.18起',\n",
       "   'priceFrom': '1.18',\n",
       "   'priceTo': '21.53',\n",
       "   'ttl': '1663060364'},\n",
       "  {'categoryCd': 'T1431040000',\n",
       "   'delivery': '3天起',\n",
       "   'deliveryFrom': '3.0',\n",
       "   'deliveryTo': '3.0',\n",
       "   'imgUrl': '//content.misumi.com.cn/image/upload/v1/p/jp/product/series/223301969667/223301969667_001.jpg',\n",
       "   'isActive': '1',\n",
       "   'itemCd': '223301969667',\n",
       "   'linkUrl': 'www.misumi.com.cn/vona2/detail/223301969667?rid=detail_purchase_110610027719_5',\n",
       "   'maker': '惠普[美国]',\n",
       "   'name': '惠普HP 88A原装硒鼓黑色 CC388A/CC388AD',\n",
       "   'position': '5',\n",
       "   'price': '￥503.31起',\n",
       "   'priceFrom': '503.31',\n",
       "   'priceTo': '812.14',\n",
       "   'ttl': '1663060364'},\n",
       "  {'categoryCd': 'T1431040000',\n",
       "   'delivery': '4天起',\n",
       "   'deliveryFrom': '4.0',\n",
       "   'deliveryTo': '4.0',\n",
       "   'imgUrl': '//content.misumi.com.cn/image/upload/v1/p/jp/product/series/223301970726/223301970726_001.jpg',\n",
       "   'isActive': '1',\n",
       "   'itemCd': '223301970726',\n",
       "   'linkUrl': 'www.misumi.com.cn/vona2/detail/223301970726?rid=detail_purchase_110610027719_6',\n",
       "   'maker': '惠普[美国]',\n",
       "   'name': '惠普HP 202A原装硒鼓CF500A/CF501A/CF502A/CF503A',\n",
       "   'position': '6',\n",
       "   'price': '￥453.54起',\n",
       "   'priceFrom': '453.54',\n",
       "   'priceTo': '547.56',\n",
       "   'ttl': '1663060364'},\n",
       "  {'categoryCd': 'T1431040000',\n",
       "   'delivery': '99天起',\n",
       "   'deliveryFrom': '99.0',\n",
       "   'deliveryTo': '99.0',\n",
       "   'imgUrl': '//content.misumi.com.cn/image/upload/v1/p/jp/product/series/223301970771/223301970771_001.jpg',\n",
       "   'isActive': '1',\n",
       "   'itemCd': '223301970771',\n",
       "   'linkUrl': 'www.misumi.com.cn/vona2/detail/223301970771?rid=detail_purchase_110610027719_7',\n",
       "   'maker': '惠普[美国]',\n",
       "   'name': '惠普HP 64A原装硒鼓黑色 CC364A',\n",
       "   'position': '7',\n",
       "   'price': '',\n",
       "   'priceFrom': '-99.0',\n",
       "   'priceTo': '-99.0',\n",
       "   'ttl': '1663060364'},\n",
       "  {'categoryCd': 'T1431040000',\n",
       "   'delivery': '4天起',\n",
       "   'deliveryFrom': '4.0',\n",
       "   'deliveryTo': '4.0',\n",
       "   'imgUrl': '//content.misumi.com.cn/image/upload/v1/p/jp/product/series/223301970760/223301970760_001.jpg',\n",
       "   'isActive': '1',\n",
       "   'itemCd': '223301970760',\n",
       "   'linkUrl': 'www.misumi.com.cn/vona2/detail/223301970760?rid=detail_purchase_110610027719_8',\n",
       "   'maker': '惠普[美国]',\n",
       "   'name': '惠普HP 125A原装硒鼓CB540A/CB541A/CB542A/CB543A',\n",
       "   'position': '8',\n",
       "   'price': '￥492.26起',\n",
       "   'priceFrom': '492.26',\n",
       "   'priceTo': '525.44',\n",
       "   'ttl': '1663060364'},\n",
       "  {'categoryCd': 'T1431040000',\n",
       "   'delivery': '99天起',\n",
       "   'deliveryFrom': '99.0',\n",
       "   'deliveryTo': '99.0',\n",
       "   'imgUrl': '//content.misumi.com.cn/image/upload/v1/p/cn/product/series/223301970759/223301970759_20201208105514.jpg',\n",
       "   'isActive': '1',\n",
       "   'itemCd': '223301970759',\n",
       "   'linkUrl': 'www.misumi.com.cn/vona2/detail/223301970759?rid=detail_purchase_110610027719_9',\n",
       "   'maker': '惠普[美国]',\n",
       "   'name': '惠普HP 36A原装硒鼓黑色 CB436A/CB436AF',\n",
       "   'position': '9',\n",
       "   'price': '',\n",
       "   'priceFrom': '-99.0',\n",
       "   'priceTo': '-99.0',\n",
       "   'ttl': '1663060364'},\n",
       "  {'categoryCd': 'T1431040000',\n",
       "   'delivery': '99天起',\n",
       "   'deliveryFrom': '99.0',\n",
       "   'deliveryTo': '99.0',\n",
       "   'imgUrl': '//content.misumi.com.cn/image/upload/v1/p/jp/product/series/223301970748/223301970748_001.jpg',\n",
       "   'isActive': '1',\n",
       "   'itemCd': '223301970748',\n",
       "   'linkUrl': 'www.misumi.com.cn/vona2/detail/223301970748?rid=detail_purchase_110610027719_10',\n",
       "   'maker': '惠普[美国]',\n",
       "   'name': '惠普HP 16A原装硒鼓黑色 Q7516A',\n",
       "   'position': '10',\n",
       "   'price': '',\n",
       "   'priceFrom': '-99.0',\n",
       "   'priceTo': '-99.0',\n",
       "   'ttl': '1663060364'}],\n",
       " 'input': {'parms': '110610027719,,,', 'recomd': 'detail_purchase'},\n",
       " 'message': 'success',\n",
       " 'status': 1}"
      ]
     },
     "execution_count": 7,
     "metadata": {},
     "output_type": "execute_result"
    }
   ],
   "source": [
    "%%time\n",
    "url = 'https://apihosts.misumi.com.cn/aidata/ec_recomd_series?page=detail&area=purchase&parm1=110610027719&parm2=&parm3=&parm4='\n",
    "requests.get(url).json()"
   ]
  }
 ],
 "metadata": {
  "kernelspec": {
   "display_name": "Python 3 (ipykernel)",
   "language": "python",
   "name": "python3"
  },
  "language_info": {
   "codemirror_mode": {
    "name": "ipython",
    "version": 3
   },
   "file_extension": ".py",
   "mimetype": "text/x-python",
   "name": "python",
   "nbconvert_exporter": "python",
   "pygments_lexer": "ipython3",
   "version": "3.7.13"
  }
 },
 "nbformat": 4,
 "nbformat_minor": 5
}
